{
 "cells": [
  {
   "cell_type": "markdown",
   "metadata": {},
   "source": [
    "# Rush Analytics API Usage Examples\n",
    "\n",
    "This notebook demonstrates how to use the Rush Analytics Python client."
   ]
  },
  {
   "cell_type": "code",
   "execution_count": null,
   "metadata": {},
   "outputs": [],
   "source": [
    "from rush_analytics import RushAnalyticsAPI\n",
    "\n",
    "# Initialize the API client\n",
    "api_key = \"your_api_key\"\n",
    "client = RushAnalyticsAPI(api_key=api_key)"
   ]
  },
  {
   "cell_type": "markdown",
   "metadata": {},
   "source": [
    "## Create a Task"
   ]
  },
  {
   "cell_type": "code",
   "execution_count": null,
   "metadata": {},
   "outputs": [],
   "source": [
    "response = client.create_task(\n",
    "    name=\"My Task\",\n",
    "    url=\"https://example.com\",\n",
    "    competitors=[\"competitor1.com\"],\n",
    "    data_collection_frequency=1,\n",
    "    yandex_regions=[{\"id\": 1}],\n",
    "    google_regions=[{\"id\": 2}],\n",
    "    keywords=[{\"keyword\": \"example\"}]\n",
    ")\n",
    "print(response)"
   ]
  },
  {
   "cell_type": "markdown",
   "metadata": {},
   "source": [
    "## Get Task Status"
   ]
  },
  {
   "cell_type": "code",
   "execution_count": null,
   "metadata": {},
   "outputs": [],
   "source": [
    "status = client.get_task_status(task_id=\"12345\")\n",
    "print(status)"
   ]
  }
 ],
 "metadata": {
  "kernelspec": {
   "display_name": "Python 3",
   "language": "python",
   "name": "python3"
  },
  "language_info": {
   "codemirror_mode": {
    "name": "ipython",
    "version": 3
   },
   "file_extension": ".py",
   "mimetype": "text/x-python",
   "name": "python",
   "nbconvert_exporter": "python",
   "pygments_lexer": "ipython3",
   "version": "3.8.5"
  }
 },
 "nbformat": 4,
 "nbformat_minor": 4
}